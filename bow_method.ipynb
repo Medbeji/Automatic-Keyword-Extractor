{
 "cells": [
  {
   "cell_type": "markdown",
   "metadata": {},
   "source": [
    "### Loading packages "
   ]
  },
  {
   "cell_type": "code",
   "execution_count": 1,
   "metadata": {
    "ExecuteTime": {
     "end_time": "2020-04-02T10:33:30.973456Z",
     "start_time": "2020-04-02T10:33:28.901144Z"
    }
   },
   "outputs": [],
   "source": [
    "import pandas as pd\n",
    "import numpy as np\n",
    "import os\n",
    "import subprocess\n",
    "from spacy import displacy\n",
    "from sklearn.feature_extraction.text import CountVectorizer\n",
    "from tqdm import tqdm_notebook\n",
    "import multiprocessing as mp # parallelization purpose.\n",
    "import json "
   ]
  },
  {
   "cell_type": "code",
   "execution_count": 2,
   "metadata": {
    "ExecuteTime": {
     "end_time": "2020-04-02T10:33:30.997286Z",
     "start_time": "2020-04-02T10:33:30.978492Z"
    }
   },
   "outputs": [],
   "source": [
    "use_multi thread = True\n",
    "language = 'en' # This notebook work only for english/french."
   ]
  },
  {
   "cell_type": "markdown",
   "metadata": {},
   "source": [
    "### Loading Data"
   ]
  },
  {
   "cell_type": "code",
   "execution_count": 3,
   "metadata": {
    "ExecuteTime": {
     "end_time": "2020-04-02T10:33:31.036263Z",
     "start_time": "2020-04-02T10:33:31.025146Z"
    }
   },
   "outputs": [],
   "source": [
    "#topic = 'Electric vehicle' if language == 'en' else 'vehicule electrique'\n",
    "#topic=\"energy\" if language == 'en' else 'energie'\n",
    "#topic= \"hydrogen\" if language=='en' else 'hydrogène'\n",
    "topic = 'autonomous'"
   ]
  },
  {
   "cell_type": "code",
   "execution_count": 4,
   "metadata": {
    "ExecuteTime": {
     "end_time": "2020-04-02T10:34:04.552631Z",
     "start_time": "2020-04-02T10:33:31.050736Z"
    }
   },
   "outputs": [
    {
     "data": {
      "application/vnd.jupyter.widget-view+json": {
       "model_id": "8e82e3b7b9a346b1804eec9f9621c525",
       "version_major": 2,
       "version_minor": 0
      },
      "text/plain": [
       "HBox(children=(IntProgress(value=0, max=2576), HTML(value='')))"
      ]
     },
     "metadata": {},
     "output_type": "display_data"
    },
    {
     "name": "stdout",
     "output_type": "stream",
     "text": [
      "\n"
     ]
    },
    {
     "data": {
      "text/plain": [
       "1827"
      ]
     },
     "execution_count": 4,
     "metadata": {},
     "output_type": "execute_result"
    }
   ],
   "source": [
    "path = f'../../cacib-work/data/cacib_jsonfull_20200218/{language}/'\n",
    "folders = [folder for folder in os.listdir(path) if folder != '.DS_Store']\n",
    "texts = []\n",
    "for folder in tqdm_notebook(folders):\n",
    "    files = os.listdir(path + folder + '/')\n",
    "    for file in files:\n",
    "        if '.json' in file:\n",
    "            with open(path + folder + '/' + file) as f:\n",
    "                data = json.load(f)\n",
    "                if 'Concept' in data['annotations']:\n",
    "                    for concept in data['annotations']['Concept']:\n",
    "                        if topic.lower() in concept['replacewith'].lower():\n",
    "                            texts.append(data['text'])\n",
    "                            break\n",
    "len(texts)"
   ]
  },
  {
   "cell_type": "markdown",
   "metadata": {},
   "source": [
    "### Post Tagging and Lemmatization using Spacy"
   ]
  },
  {
   "cell_type": "code",
   "execution_count": 5,
   "metadata": {
    "ExecuteTime": {
     "end_time": "2020-04-02T10:34:04.567287Z",
     "start_time": "2020-04-02T10:34:04.557221Z"
    }
   },
   "outputs": [],
   "source": [
    "import spacy"
   ]
  },
  {
   "cell_type": "markdown",
   "metadata": {},
   "source": [
    "#### Spacy Integration"
   ]
  },
  {
   "cell_type": "code",
   "execution_count": 6,
   "metadata": {
    "ExecuteTime": {
     "end_time": "2020-04-02T10:34:04.586108Z",
     "start_time": "2020-04-02T10:34:04.570883Z"
    }
   },
   "outputs": [],
   "source": [
    "def download_model(name=''): \n",
    "    \"\"\" download spacy model small, medium or large\"\"\"\n",
    "    _ = subprocess.run([\"python\", \"-m\", \"spacy\",\"download\",name])\n",
    "    return _.returncode"
   ]
  },
  {
   "cell_type": "code",
   "execution_count": 7,
   "metadata": {
    "ExecuteTime": {
     "end_time": "2020-04-02T10:34:39.073209Z",
     "start_time": "2020-04-02T10:34:04.591065Z"
    }
   },
   "outputs": [],
   "source": [
    "model_name = \"en_core_web_md\" if language == 'en' else 'fr_core_news_md'\n",
    "nlp = None\n",
    "while nlp is None: \n",
    "    try: nlp = spacy.load(model_name)\n",
    "    except: download_model(model_name)"
   ]
  },
  {
   "cell_type": "markdown",
   "metadata": {},
   "source": [
    "#### POS Tag to load build CUSTOM stopwords list"
   ]
  },
  {
   "cell_type": "code",
   "execution_count": 8,
   "metadata": {
    "ExecuteTime": {
     "end_time": "2020-04-02T10:34:39.089903Z",
     "start_time": "2020-04-02T10:34:39.081053Z"
    },
    "scrolled": false
   },
   "outputs": [],
   "source": [
    "#doc = nlp(texts[0])\n",
    "#displacy.render(doc, style=\"ent\")"
   ]
  },
  {
   "cell_type": "markdown",
   "metadata": {},
   "source": [
    "#### Stopwords "
   ]
  },
  {
   "cell_type": "code",
   "execution_count": 9,
   "metadata": {
    "ExecuteTime": {
     "end_time": "2020-04-02T10:34:39.106221Z",
     "start_time": "2020-04-02T10:34:39.093162Z"
    }
   },
   "outputs": [
    {
     "data": {
      "text/plain": [
       "\"\\nstopwords = []\\nfor text in tqdm_notebook(texts):\\n    model = nlp(text)\\n    for token in model: \\n        if token.pos_ not in ['PROPN','NOUN','ADJ']:\\n            stopwords.append(token.text)\""
      ]
     },
     "execution_count": 9,
     "metadata": {},
     "output_type": "execute_result"
    }
   ],
   "source": [
    "\"\"\"\n",
    "stopwords = []\n",
    "for text in tqdm_notebook(texts):\n",
    "    model = nlp(text)\n",
    "    for token in model: \n",
    "        if token.pos_ not in ['PROPN','NOUN','ADJ']:\n",
    "            stopwords.append(token.text)\"\"\""
   ]
  },
  {
   "cell_type": "code",
   "execution_count": 10,
   "metadata": {
    "ExecuteTime": {
     "end_time": "2020-04-02T10:34:39.120959Z",
     "start_time": "2020-04-02T10:34:39.115180Z"
    },
    "scrolled": false
   },
   "outputs": [],
   "source": [
    "stopwords = spacy.lang.en.stop_words.STOP_WORDS if language=='en' else spacy.lang.fr.stop_words.STOP_WORDS"
   ]
  },
  {
   "cell_type": "markdown",
   "metadata": {},
   "source": [
    "#### Lemmatization "
   ]
  },
  {
   "cell_type": "code",
   "execution_count": 11,
   "metadata": {
    "ExecuteTime": {
     "end_time": "2020-04-02T10:34:39.136286Z",
     "start_time": "2020-04-02T10:34:39.129575Z"
    }
   },
   "outputs": [],
   "source": [
    "_texts = texts"
   ]
  },
  {
   "cell_type": "code",
   "execution_count": 12,
   "metadata": {
    "ExecuteTime": {
     "end_time": "2020-04-02T10:34:39.192834Z",
     "start_time": "2020-04-02T10:34:39.140729Z"
    }
   },
   "outputs": [
    {
     "name": "stdout",
     "output_type": "stream",
     "text": [
      "------ ORIGINAL TEXT ------\n",
      "\n",
      "Nearly 50,000 General Motors Workers Go On Strike: Trump Implies Iran May Be Responsible For Saudi Oil Attack: Oil Prices Spike After Saudi Attack, U.S. Blames Iran: Multiple People Hurt In Explosion \n",
      "\n",
      "------ TEXT CLEANED ------\n"
     ]
    },
    {
     "data": {
      "text/plain": [
       "' General Motors worker strike trump Iran responsible saudi Oil attack oil price Spike Saudi Attack U.S. Iran multiple People explosion'"
      ]
     },
     "execution_count": 12,
     "metadata": {},
     "output_type": "execute_result"
    }
   ],
   "source": [
    "def get_lemma(text): \n",
    "    \"\"\" Get the lemmatization of an input text \"\"\"\n",
    "    new_text = ''\n",
    "    for token in nlp(text):\n",
    "        if token.pos_ in ['PROPN', 'NOUN', 'ADJ'] and not token.is_stop and not token.like_num:\n",
    "            new_text += ' ' + token.lemma_\n",
    "    return new_text\n",
    "print('------ ORIGINAL TEXT ------\\n')\n",
    "print(_texts[0][:200])\n",
    "print('\\n------ TEXT CLEANED ------')\n",
    "get_lemma(_texts[0][:200])"
   ]
  },
  {
   "cell_type": "code",
   "execution_count": 13,
   "metadata": {
    "ExecuteTime": {
     "end_time": "2020-04-02T10:36:44.549773Z",
     "start_time": "2020-04-02T10:34:39.196718Z"
    },
    "scrolled": true
   },
   "outputs": [
    {
     "data": {
      "application/vnd.jupyter.widget-view+json": {
       "model_id": "7c32f2622c414ad09e3b0f59f2ba0841",
       "version_major": 2,
       "version_minor": 0
      },
      "text/plain": [
       "HBox(children=(IntProgress(value=1, bar_style='info', max=1), HTML(value='')))"
      ]
     },
     "metadata": {},
     "output_type": "display_data"
    },
    {
     "name": "stdout",
     "output_type": "stream",
     "text": [
      "\n",
      "The number of texts cleaned = 1827\n"
     ]
    }
   ],
   "source": [
    "texts = []\n",
    "if use_multithread:\n",
    "    n_core = mp.cpu_count()\n",
    "    batch_size = 500 if len(_texts) > 1000 else 250\n",
    "    for doc in tqdm_notebook(nlp.pipe(_texts, disable=[\"ner\", \"parser\"], n_threads=n_core, batch_size=batch_size)):\n",
    "        new_text = ''\n",
    "        for token in doc:\n",
    "            if token.pos_ in ['PROPN', 'NOUN', 'ADJ'] and not token.is_stop and not token.like_num:\n",
    "                new_text += ' ' + token.lemma_\n",
    "        texts.append(new_text)\n",
    "else: \n",
    "    for text in tqdm_notebook(_texts):\n",
    "        model = nlp(text)\n",
    "        new_text = ''\n",
    "        for token in model:\n",
    "            if token.pos_ in ['PROPN', 'NOUN', 'ADJ'] and not token.is_stop and not token.like_num:\n",
    "                new_text += ' ' + token.lemma_\n",
    "        texts.append(new_text)\n",
    "print('The number of texts cleaned = {}'.format(len(texts)))"
   ]
  },
  {
   "cell_type": "markdown",
   "metadata": {},
   "source": [
    "### Bag of Words using Count Vectorizer "
   ]
  },
  {
   "cell_type": "code",
   "execution_count": 14,
   "metadata": {
    "ExecuteTime": {
     "end_time": "2020-04-02T10:37:03.184867Z",
     "start_time": "2020-04-02T10:36:44.559249Z"
    }
   },
   "outputs": [
    {
     "name": "stderr",
     "output_type": "stream",
     "text": [
      "/Users/medbeji/.local/lib/python3.7/site-packages/sklearn/feature_extraction/text.py:385: UserWarning: Your stop_words may be inconsistent with your preprocessing. Tokenizing the stop words generated tokens ['ll', 've'] not in stop_words.\n",
      "  'stop_words.' % sorted(inconsistent))\n"
     ]
    }
   ],
   "source": [
    "cv = CountVectorizer(ngram_range=(1,3), stop_words=stopwords)\n",
    "cv_fit = cv.fit_transform(texts)\n",
    "word_list = cv.get_feature_names()\n",
    "count_list = cv_fit.toarray().sum(axis=0)"
   ]
  },
  {
   "cell_type": "code",
   "execution_count": 15,
   "metadata": {
    "ExecuteTime": {
     "end_time": "2020-04-02T10:37:03.647508Z",
     "start_time": "2020-04-02T10:37:03.187885Z"
    }
   },
   "outputs": [
    {
     "data": {
      "text/plain": [
       "772912"
      ]
     },
     "execution_count": 15,
     "metadata": {},
     "output_type": "execute_result"
    }
   ],
   "source": [
    "result_dict = dict(zip(word_list,count_list))\n",
    "len(result_dict.keys())"
   ]
  },
  {
   "cell_type": "code",
   "execution_count": 16,
   "metadata": {
    "ExecuteTime": {
     "end_time": "2020-04-02T10:37:04.601401Z",
     "start_time": "2020-04-02T10:37:03.659222Z"
    }
   },
   "outputs": [
    {
     "data": {
      "text/html": [
       "<div>\n",
       "<style scoped>\n",
       "    .dataframe tbody tr th:only-of-type {\n",
       "        vertical-align: middle;\n",
       "    }\n",
       "\n",
       "    .dataframe tbody tr th {\n",
       "        vertical-align: top;\n",
       "    }\n",
       "\n",
       "    .dataframe thead th {\n",
       "        text-align: right;\n",
       "    }\n",
       "</style>\n",
       "<table border=\"1\" class=\"dataframe\">\n",
       "  <thead>\n",
       "    <tr style=\"text-align: right;\">\n",
       "      <th></th>\n",
       "      <th>count</th>\n",
       "    </tr>\n",
       "  </thead>\n",
       "  <tbody>\n",
       "    <tr>\n",
       "      <th>vehicle</th>\n",
       "      <td>18594</td>\n",
       "    </tr>\n",
       "    <tr>\n",
       "      <th>company</th>\n",
       "      <td>8958</td>\n",
       "    </tr>\n",
       "    <tr>\n",
       "      <th>autonomous</th>\n",
       "      <td>8437</td>\n",
       "    </tr>\n",
       "    <tr>\n",
       "      <th>year</th>\n",
       "      <td>7892</td>\n",
       "    </tr>\n",
       "    <tr>\n",
       "      <th>car</th>\n",
       "      <td>6586</td>\n",
       "    </tr>\n",
       "    <tr>\n",
       "      <th>system</th>\n",
       "      <td>6430</td>\n",
       "    </tr>\n",
       "    <tr>\n",
       "      <th>new</th>\n",
       "      <td>6333</td>\n",
       "    </tr>\n",
       "    <tr>\n",
       "      <th>technology</th>\n",
       "      <td>6044</td>\n",
       "    </tr>\n",
       "    <tr>\n",
       "      <th>market</th>\n",
       "      <td>4126</td>\n",
       "    </tr>\n",
       "    <tr>\n",
       "      <th>autonomous vehicle</th>\n",
       "      <td>3735</td>\n",
       "    </tr>\n",
       "    <tr>\n",
       "      <th>ford</th>\n",
       "      <td>3523</td>\n",
       "    </tr>\n",
       "    <tr>\n",
       "      <th>time</th>\n",
       "      <td>3462</td>\n",
       "    </tr>\n",
       "    <tr>\n",
       "      <th>information</th>\n",
       "      <td>3440</td>\n",
       "    </tr>\n",
       "    <tr>\n",
       "      <th>datum</th>\n",
       "      <td>3330</td>\n",
       "    </tr>\n",
       "    <tr>\n",
       "      <th>electric</th>\n",
       "      <td>3146</td>\n",
       "    </tr>\n",
       "    <tr>\n",
       "      <th>second</th>\n",
       "      <td>2876</td>\n",
       "    </tr>\n",
       "    <tr>\n",
       "      <th>business</th>\n",
       "      <td>2834</td>\n",
       "    </tr>\n",
       "    <tr>\n",
       "      <th>service</th>\n",
       "      <td>2688</td>\n",
       "    </tr>\n",
       "    <tr>\n",
       "      <th>sensor</th>\n",
       "      <td>2668</td>\n",
       "    </tr>\n",
       "    <tr>\n",
       "      <th>driver</th>\n",
       "      <td>2608</td>\n",
       "    </tr>\n",
       "    <tr>\n",
       "      <th>industry</th>\n",
       "      <td>2585</td>\n",
       "    </tr>\n",
       "    <tr>\n",
       "      <th>automotive</th>\n",
       "      <td>2486</td>\n",
       "    </tr>\n",
       "    <tr>\n",
       "      <th>claim</th>\n",
       "      <td>2469</td>\n",
       "    </tr>\n",
       "    <tr>\n",
       "      <th>driving</th>\n",
       "      <td>2391</td>\n",
       "    </tr>\n",
       "    <tr>\n",
       "      <th>self</th>\n",
       "      <td>2332</td>\n",
       "    </tr>\n",
       "    <tr>\n",
       "      <th>road</th>\n",
       "      <td>2323</td>\n",
       "    </tr>\n",
       "    <tr>\n",
       "      <th>motor</th>\n",
       "      <td>2295</td>\n",
       "    </tr>\n",
       "    <tr>\n",
       "      <th>future</th>\n",
       "      <td>2252</td>\n",
       "    </tr>\n",
       "    <tr>\n",
       "      <th>high</th>\n",
       "      <td>2227</td>\n",
       "    </tr>\n",
       "    <tr>\n",
       "      <th>control</th>\n",
       "      <td>2211</td>\n",
       "    </tr>\n",
       "    <tr>\n",
       "      <th>...</th>\n",
       "      <td>...</td>\n",
       "    </tr>\n",
       "    <tr>\n",
       "      <th>application</th>\n",
       "      <td>1490</td>\n",
       "    </tr>\n",
       "    <tr>\n",
       "      <th>position</th>\n",
       "      <td>1486</td>\n",
       "    </tr>\n",
       "    <tr>\n",
       "      <th>software</th>\n",
       "      <td>1468</td>\n",
       "    </tr>\n",
       "    <tr>\n",
       "      <th>power</th>\n",
       "      <td>1454</td>\n",
       "    </tr>\n",
       "    <tr>\n",
       "      <th>battery</th>\n",
       "      <td>1439</td>\n",
       "    </tr>\n",
       "    <tr>\n",
       "      <th>image</th>\n",
       "      <td>1425</td>\n",
       "    </tr>\n",
       "    <tr>\n",
       "      <th>network</th>\n",
       "      <td>1416</td>\n",
       "    </tr>\n",
       "    <tr>\n",
       "      <th>sale</th>\n",
       "      <td>1407</td>\n",
       "    </tr>\n",
       "    <tr>\n",
       "      <th>plant</th>\n",
       "      <td>1368</td>\n",
       "    </tr>\n",
       "    <tr>\n",
       "      <th>platform</th>\n",
       "      <td>1365</td>\n",
       "    </tr>\n",
       "    <tr>\n",
       "      <th>state</th>\n",
       "      <td>1358</td>\n",
       "    </tr>\n",
       "    <tr>\n",
       "      <th>plan</th>\n",
       "      <td>1348</td>\n",
       "    </tr>\n",
       "    <tr>\n",
       "      <th>autonomous driving</th>\n",
       "      <td>1347</td>\n",
       "    </tr>\n",
       "    <tr>\n",
       "      <th>light</th>\n",
       "      <td>1330</td>\n",
       "    </tr>\n",
       "    <tr>\n",
       "      <th>end</th>\n",
       "      <td>1324</td>\n",
       "    </tr>\n",
       "    <tr>\n",
       "      <th>city</th>\n",
       "      <td>1312</td>\n",
       "    </tr>\n",
       "    <tr>\n",
       "      <th>object</th>\n",
       "      <td>1302</td>\n",
       "    </tr>\n",
       "    <tr>\n",
       "      <th>growth</th>\n",
       "      <td>1302</td>\n",
       "    </tr>\n",
       "    <tr>\n",
       "      <th>computer</th>\n",
       "      <td>1283</td>\n",
       "    </tr>\n",
       "    <tr>\n",
       "      <th>environment</th>\n",
       "      <td>1270</td>\n",
       "    </tr>\n",
       "    <tr>\n",
       "      <th>auto</th>\n",
       "      <td>1268</td>\n",
       "    </tr>\n",
       "    <tr>\n",
       "      <th>point</th>\n",
       "      <td>1254</td>\n",
       "    </tr>\n",
       "    <tr>\n",
       "      <th>area</th>\n",
       "      <td>1229</td>\n",
       "    </tr>\n",
       "    <tr>\n",
       "      <th>smart</th>\n",
       "      <td>1221</td>\n",
       "    </tr>\n",
       "    <tr>\n",
       "      <th>services</th>\n",
       "      <td>1197</td>\n",
       "    </tr>\n",
       "    <tr>\n",
       "      <th>large</th>\n",
       "      <td>1195</td>\n",
       "    </tr>\n",
       "    <tr>\n",
       "      <th>date</th>\n",
       "      <td>1177</td>\n",
       "    </tr>\n",
       "    <tr>\n",
       "      <th>way</th>\n",
       "      <td>1174</td>\n",
       "    </tr>\n",
       "    <tr>\n",
       "      <th>example</th>\n",
       "      <td>1172</td>\n",
       "    </tr>\n",
       "    <tr>\n",
       "      <th>processor</th>\n",
       "      <td>1171</td>\n",
       "    </tr>\n",
       "  </tbody>\n",
       "</table>\n",
       "<p>100 rows × 1 columns</p>\n",
       "</div>"
      ],
      "text/plain": [
       "                    count\n",
       "vehicle             18594\n",
       "company              8958\n",
       "autonomous           8437\n",
       "year                 7892\n",
       "car                  6586\n",
       "system               6430\n",
       "new                  6333\n",
       "technology           6044\n",
       "market               4126\n",
       "autonomous vehicle   3735\n",
       "ford                 3523\n",
       "time                 3462\n",
       "information          3440\n",
       "datum                3330\n",
       "electric             3146\n",
       "second               2876\n",
       "business             2834\n",
       "service              2688\n",
       "sensor               2668\n",
       "driver               2608\n",
       "industry             2585\n",
       "automotive           2486\n",
       "claim                2469\n",
       "driving              2391\n",
       "self                 2332\n",
       "road                 2323\n",
       "motor                2295\n",
       "future               2252\n",
       "high                 2227\n",
       "control              2211\n",
       "...                   ...\n",
       "application          1490\n",
       "position             1486\n",
       "software             1468\n",
       "power                1454\n",
       "battery              1439\n",
       "image                1425\n",
       "network              1416\n",
       "sale                 1407\n",
       "plant                1368\n",
       "platform             1365\n",
       "state                1358\n",
       "plan                 1348\n",
       "autonomous driving   1347\n",
       "light                1330\n",
       "end                  1324\n",
       "city                 1312\n",
       "object               1302\n",
       "growth               1302\n",
       "computer             1283\n",
       "environment          1270\n",
       "auto                 1268\n",
       "point                1254\n",
       "area                 1229\n",
       "smart                1221\n",
       "services             1197\n",
       "large                1195\n",
       "date                 1177\n",
       "way                  1174\n",
       "example              1172\n",
       "processor            1171\n",
       "\n",
       "[100 rows x 1 columns]"
      ]
     },
     "execution_count": 16,
     "metadata": {},
     "output_type": "execute_result"
    }
   ],
   "source": [
    "df = pd.DataFrame.from_dict(result_dict, orient='index', columns=['count'])\n",
    "df.sort_values(by='count', ascending=False, inplace=True)\n",
    "df.head(100)"
   ]
  },
  {
   "cell_type": "code",
   "execution_count": 17,
   "metadata": {
    "ExecuteTime": {
     "end_time": "2020-04-02T10:37:05.527008Z",
     "start_time": "2020-04-02T10:37:04.607533Z"
    }
   },
   "outputs": [
    {
     "data": {
      "text/html": [
       "<div>\n",
       "<style scoped>\n",
       "    .dataframe tbody tr th:only-of-type {\n",
       "        vertical-align: middle;\n",
       "    }\n",
       "\n",
       "    .dataframe tbody tr th {\n",
       "        vertical-align: top;\n",
       "    }\n",
       "\n",
       "    .dataframe thead th {\n",
       "        text-align: right;\n",
       "    }\n",
       "</style>\n",
       "<table border=\"1\" class=\"dataframe\">\n",
       "  <thead>\n",
       "    <tr style=\"text-align: right;\">\n",
       "      <th></th>\n",
       "      <th>index</th>\n",
       "      <th>count</th>\n",
       "      <th>nb_words</th>\n",
       "    </tr>\n",
       "  </thead>\n",
       "  <tbody>\n",
       "    <tr>\n",
       "      <th>0</th>\n",
       "      <td>vehicle</td>\n",
       "      <td>18594</td>\n",
       "      <td>1</td>\n",
       "    </tr>\n",
       "    <tr>\n",
       "      <th>1</th>\n",
       "      <td>company</td>\n",
       "      <td>8958</td>\n",
       "      <td>1</td>\n",
       "    </tr>\n",
       "    <tr>\n",
       "      <th>2</th>\n",
       "      <td>autonomous</td>\n",
       "      <td>8437</td>\n",
       "      <td>1</td>\n",
       "    </tr>\n",
       "    <tr>\n",
       "      <th>3</th>\n",
       "      <td>year</td>\n",
       "      <td>7892</td>\n",
       "      <td>1</td>\n",
       "    </tr>\n",
       "    <tr>\n",
       "      <th>4</th>\n",
       "      <td>car</td>\n",
       "      <td>6586</td>\n",
       "      <td>1</td>\n",
       "    </tr>\n",
       "  </tbody>\n",
       "</table>\n",
       "</div>"
      ],
      "text/plain": [
       "        index  count  nb_words\n",
       "0     vehicle  18594         1\n",
       "1     company   8958         1\n",
       "2  autonomous   8437         1\n",
       "3        year   7892         1\n",
       "4         car   6586         1"
      ]
     },
     "execution_count": 17,
     "metadata": {},
     "output_type": "execute_result"
    }
   ],
   "source": [
    "df.reset_index(inplace=True)\n",
    "df['nb_words'] = df['index'].apply(lambda x: len(x.split()))\n",
    "df.head()"
   ]
  },
  {
   "cell_type": "code",
   "execution_count": 18,
   "metadata": {
    "ExecuteTime": {
     "end_time": "2020-04-02T10:37:05.637240Z",
     "start_time": "2020-04-02T10:37:05.532312Z"
    }
   },
   "outputs": [
    {
     "data": {
      "text/html": [
       "<div>\n",
       "<style scoped>\n",
       "    .dataframe tbody tr th:only-of-type {\n",
       "        vertical-align: middle;\n",
       "    }\n",
       "\n",
       "    .dataframe tbody tr th {\n",
       "        vertical-align: top;\n",
       "    }\n",
       "\n",
       "    .dataframe thead th {\n",
       "        text-align: right;\n",
       "    }\n",
       "</style>\n",
       "<table border=\"1\" class=\"dataframe\">\n",
       "  <thead>\n",
       "    <tr style=\"text-align: right;\">\n",
       "      <th></th>\n",
       "      <th>index</th>\n",
       "      <th>count</th>\n",
       "      <th>nb_words</th>\n",
       "    </tr>\n",
       "  </thead>\n",
       "  <tbody>\n",
       "    <tr>\n",
       "      <th>9</th>\n",
       "      <td>autonomous vehicle</td>\n",
       "      <td>3735</td>\n",
       "      <td>2</td>\n",
       "    </tr>\n",
       "    <tr>\n",
       "      <th>66</th>\n",
       "      <td>bg base</td>\n",
       "      <td>1506</td>\n",
       "      <td>2</td>\n",
       "    </tr>\n",
       "    <tr>\n",
       "      <th>64</th>\n",
       "      <td>base font</td>\n",
       "      <td>1506</td>\n",
       "      <td>2</td>\n",
       "    </tr>\n",
       "    <tr>\n",
       "      <th>65</th>\n",
       "      <td>embed color</td>\n",
       "      <td>1506</td>\n",
       "      <td>2</td>\n",
       "    </tr>\n",
       "    <tr>\n",
       "      <th>69</th>\n",
       "      <td>font accent</td>\n",
       "      <td>1496</td>\n",
       "      <td>2</td>\n",
       "    </tr>\n",
       "    <tr>\n",
       "      <th>82</th>\n",
       "      <td>autonomous driving</td>\n",
       "      <td>1347</td>\n",
       "      <td>2</td>\n",
       "    </tr>\n",
       "    <tr>\n",
       "      <th>103</th>\n",
       "      <td>electric vehicle</td>\n",
       "      <td>1134</td>\n",
       "      <td>2</td>\n",
       "    </tr>\n",
       "    <tr>\n",
       "      <th>104</th>\n",
       "      <td>year contract</td>\n",
       "      <td>1132</td>\n",
       "      <td>2</td>\n",
       "    </tr>\n",
       "    <tr>\n",
       "      <th>120</th>\n",
       "      <td>products services</td>\n",
       "      <td>1024</td>\n",
       "      <td>2</td>\n",
       "    </tr>\n",
       "    <tr>\n",
       "      <th>122</th>\n",
       "      <td>new products</td>\n",
       "      <td>1021</td>\n",
       "      <td>2</td>\n",
       "    </tr>\n",
       "    <tr>\n",
       "      <th>126</th>\n",
       "      <td>body bg</td>\n",
       "      <td>1003</td>\n",
       "      <td>2</td>\n",
       "    </tr>\n",
       "    <tr>\n",
       "      <th>127</th>\n",
       "      <td>class subhead4</td>\n",
       "      <td>1003</td>\n",
       "      <td>2</td>\n",
       "    </tr>\n",
       "    <tr>\n",
       "      <th>130</th>\n",
       "      <td>h4 class</td>\n",
       "      <td>1003</td>\n",
       "      <td>2</td>\n",
       "    </tr>\n",
       "    <tr>\n",
       "      <th>134</th>\n",
       "      <td>color body</td>\n",
       "      <td>1003</td>\n",
       "      <td>2</td>\n",
       "    </tr>\n",
       "    <tr>\n",
       "      <th>137</th>\n",
       "      <td>subhead4 embed</td>\n",
       "      <td>1003</td>\n",
       "      <td>2</td>\n",
       "    </tr>\n",
       "    <tr>\n",
       "      <th>142</th>\n",
       "      <td>contract agreement</td>\n",
       "      <td>992</td>\n",
       "      <td>2</td>\n",
       "    </tr>\n",
       "    <tr>\n",
       "      <th>188</th>\n",
       "      <td>year new</td>\n",
       "      <td>827</td>\n",
       "      <td>2</td>\n",
       "    </tr>\n",
       "    <tr>\n",
       "      <th>199</th>\n",
       "      <td>method claim</td>\n",
       "      <td>807</td>\n",
       "      <td>2</td>\n",
       "    </tr>\n",
       "    <tr>\n",
       "      <th>204</th>\n",
       "      <td>joint venture</td>\n",
       "      <td>788</td>\n",
       "      <td>2</td>\n",
       "    </tr>\n",
       "    <tr>\n",
       "      <th>242</th>\n",
       "      <td>self car</td>\n",
       "      <td>695</td>\n",
       "      <td>2</td>\n",
       "    </tr>\n",
       "    <tr>\n",
       "      <th>252</th>\n",
       "      <td>ford motor</td>\n",
       "      <td>667</td>\n",
       "      <td>2</td>\n",
       "    </tr>\n",
       "    <tr>\n",
       "      <th>266</th>\n",
       "      <td>hyundai motor</td>\n",
       "      <td>643</td>\n",
       "      <td>2</td>\n",
       "    </tr>\n",
       "    <tr>\n",
       "      <th>277</th>\n",
       "      <td>system claim</td>\n",
       "      <td>619</td>\n",
       "      <td>2</td>\n",
       "    </tr>\n",
       "    <tr>\n",
       "      <th>290</th>\n",
       "      <td>corporate changes</td>\n",
       "      <td>597</td>\n",
       "      <td>2</td>\n",
       "    </tr>\n",
       "    <tr>\n",
       "      <th>303</th>\n",
       "      <td>artificial intelligence</td>\n",
       "      <td>575</td>\n",
       "      <td>2</td>\n",
       "    </tr>\n",
       "    <tr>\n",
       "      <th>314</th>\n",
       "      <td>changes expansion</td>\n",
       "      <td>566</td>\n",
       "      <td>2</td>\n",
       "    </tr>\n",
       "    <tr>\n",
       "      <th>350</th>\n",
       "      <td>year corporate</td>\n",
       "      <td>510</td>\n",
       "      <td>2</td>\n",
       "    </tr>\n",
       "    <tr>\n",
       "      <th>356</th>\n",
       "      <td>color accent</td>\n",
       "      <td>503</td>\n",
       "      <td>2</td>\n",
       "    </tr>\n",
       "    <tr>\n",
       "      <th>359</th>\n",
       "      <td>accent bg</td>\n",
       "      <td>503</td>\n",
       "      <td>2</td>\n",
       "    </tr>\n",
       "    <tr>\n",
       "      <th>362</th>\n",
       "      <td>subhead embed</td>\n",
       "      <td>503</td>\n",
       "      <td>2</td>\n",
       "    </tr>\n",
       "    <tr>\n",
       "      <th>...</th>\n",
       "      <td>...</td>\n",
       "      <td>...</td>\n",
       "      <td>...</td>\n",
       "    </tr>\n",
       "    <tr>\n",
       "      <th>445727</th>\n",
       "      <td>server strong</td>\n",
       "      <td>1</td>\n",
       "      <td>2</td>\n",
       "    </tr>\n",
       "    <tr>\n",
       "      <th>445729</th>\n",
       "      <td>application agricultural</td>\n",
       "      <td>1</td>\n",
       "      <td>2</td>\n",
       "    </tr>\n",
       "    <tr>\n",
       "      <th>445731</th>\n",
       "      <td>server storage</td>\n",
       "      <td>1</td>\n",
       "      <td>2</td>\n",
       "    </tr>\n",
       "    <tr>\n",
       "      <th>445733</th>\n",
       "      <td>server solution</td>\n",
       "      <td>1</td>\n",
       "      <td>2</td>\n",
       "    </tr>\n",
       "    <tr>\n",
       "      <th>445735</th>\n",
       "      <td>server software</td>\n",
       "      <td>1</td>\n",
       "      <td>2</td>\n",
       "    </tr>\n",
       "    <tr>\n",
       "      <th>445737</th>\n",
       "      <td>server small</td>\n",
       "      <td>1</td>\n",
       "      <td>2</td>\n",
       "    </tr>\n",
       "    <tr>\n",
       "      <th>445739</th>\n",
       "      <td>server shipment</td>\n",
       "      <td>1</td>\n",
       "      <td>2</td>\n",
       "    </tr>\n",
       "    <tr>\n",
       "      <th>445741</th>\n",
       "      <td>server server</td>\n",
       "      <td>1</td>\n",
       "      <td>2</td>\n",
       "    </tr>\n",
       "    <tr>\n",
       "      <th>445704</th>\n",
       "      <td>series venture</td>\n",
       "      <td>1</td>\n",
       "      <td>2</td>\n",
       "    </tr>\n",
       "    <tr>\n",
       "      <th>445699</th>\n",
       "      <td>series w650</td>\n",
       "      <td>1</td>\n",
       "      <td>2</td>\n",
       "    </tr>\n",
       "    <tr>\n",
       "      <th>445647</th>\n",
       "      <td>server claim</td>\n",
       "      <td>1</td>\n",
       "      <td>2</td>\n",
       "    </tr>\n",
       "    <tr>\n",
       "      <th>445697</th>\n",
       "      <td>series wheel</td>\n",
       "      <td>1</td>\n",
       "      <td>2</td>\n",
       "    </tr>\n",
       "    <tr>\n",
       "      <th>445649</th>\n",
       "      <td>server china</td>\n",
       "      <td>1</td>\n",
       "      <td>2</td>\n",
       "    </tr>\n",
       "    <tr>\n",
       "      <th>445651</th>\n",
       "      <td>server base</td>\n",
       "      <td>1</td>\n",
       "      <td>2</td>\n",
       "    </tr>\n",
       "    <tr>\n",
       "      <th>445655</th>\n",
       "      <td>server automotive</td>\n",
       "      <td>1</td>\n",
       "      <td>2</td>\n",
       "    </tr>\n",
       "    <tr>\n",
       "      <th>445656</th>\n",
       "      <td>application attention</td>\n",
       "      <td>1</td>\n",
       "      <td>2</td>\n",
       "    </tr>\n",
       "    <tr>\n",
       "      <th>445664</th>\n",
       "      <td>series stringent</td>\n",
       "      <td>1</td>\n",
       "      <td>2</td>\n",
       "    </tr>\n",
       "    <tr>\n",
       "      <th>445666</th>\n",
       "      <td>series step</td>\n",
       "      <td>1</td>\n",
       "      <td>2</td>\n",
       "    </tr>\n",
       "    <tr>\n",
       "      <th>445668</th>\n",
       "      <td>series startup</td>\n",
       "      <td>1</td>\n",
       "      <td>2</td>\n",
       "    </tr>\n",
       "    <tr>\n",
       "      <th>445670</th>\n",
       "      <td>series start</td>\n",
       "      <td>1</td>\n",
       "      <td>2</td>\n",
       "    </tr>\n",
       "    <tr>\n",
       "      <th>445672</th>\n",
       "      <td>series sport</td>\n",
       "      <td>1</td>\n",
       "      <td>2</td>\n",
       "    </tr>\n",
       "    <tr>\n",
       "      <th>445674</th>\n",
       "      <td>series special</td>\n",
       "      <td>1</td>\n",
       "      <td>2</td>\n",
       "    </tr>\n",
       "    <tr>\n",
       "      <th>445676</th>\n",
       "      <td>series social</td>\n",
       "      <td>1</td>\n",
       "      <td>2</td>\n",
       "    </tr>\n",
       "    <tr>\n",
       "      <th>445678</th>\n",
       "      <td>series smartwatch</td>\n",
       "      <td>1</td>\n",
       "      <td>2</td>\n",
       "    </tr>\n",
       "    <tr>\n",
       "      <th>445685</th>\n",
       "      <td>series shock</td>\n",
       "      <td>1</td>\n",
       "      <td>2</td>\n",
       "    </tr>\n",
       "    <tr>\n",
       "      <th>445687</th>\n",
       "      <td>series shelf</td>\n",
       "      <td>1</td>\n",
       "      <td>2</td>\n",
       "    </tr>\n",
       "    <tr>\n",
       "      <th>445689</th>\n",
       "      <td>series tmc</td>\n",
       "      <td>1</td>\n",
       "      <td>2</td>\n",
       "    </tr>\n",
       "    <tr>\n",
       "      <th>445690</th>\n",
       "      <td>series today</td>\n",
       "      <td>1</td>\n",
       "      <td>2</td>\n",
       "    </tr>\n",
       "    <tr>\n",
       "      <th>445694</th>\n",
       "      <td>application auo</td>\n",
       "      <td>1</td>\n",
       "      <td>2</td>\n",
       "    </tr>\n",
       "    <tr>\n",
       "      <th>772908</th>\n",
       "      <td>launch baseline</td>\n",
       "      <td>1</td>\n",
       "      <td>2</td>\n",
       "    </tr>\n",
       "  </tbody>\n",
       "</table>\n",
       "<p>294552 rows × 3 columns</p>\n",
       "</div>"
      ],
      "text/plain": [
       "                           index  count  nb_words\n",
       "9             autonomous vehicle   3735         2\n",
       "66                       bg base   1506         2\n",
       "64                     base font   1506         2\n",
       "65                   embed color   1506         2\n",
       "69                   font accent   1496         2\n",
       "82            autonomous driving   1347         2\n",
       "103             electric vehicle   1134         2\n",
       "104                year contract   1132         2\n",
       "120            products services   1024         2\n",
       "122                 new products   1021         2\n",
       "126                      body bg   1003         2\n",
       "127               class subhead4   1003         2\n",
       "130                     h4 class   1003         2\n",
       "134                   color body   1003         2\n",
       "137               subhead4 embed   1003         2\n",
       "142           contract agreement    992         2\n",
       "188                     year new    827         2\n",
       "199                 method claim    807         2\n",
       "204                joint venture    788         2\n",
       "242                     self car    695         2\n",
       "252                   ford motor    667         2\n",
       "266                hyundai motor    643         2\n",
       "277                 system claim    619         2\n",
       "290            corporate changes    597         2\n",
       "303      artificial intelligence    575         2\n",
       "314            changes expansion    566         2\n",
       "350               year corporate    510         2\n",
       "356                 color accent    503         2\n",
       "359                    accent bg    503         2\n",
       "362                subhead embed    503         2\n",
       "...                          ...    ...       ...\n",
       "445727             server strong      1         2\n",
       "445729  application agricultural      1         2\n",
       "445731            server storage      1         2\n",
       "445733           server solution      1         2\n",
       "445735           server software      1         2\n",
       "445737              server small      1         2\n",
       "445739           server shipment      1         2\n",
       "445741             server server      1         2\n",
       "445704            series venture      1         2\n",
       "445699               series w650      1         2\n",
       "445647              server claim      1         2\n",
       "445697              series wheel      1         2\n",
       "445649              server china      1         2\n",
       "445651               server base      1         2\n",
       "445655         server automotive      1         2\n",
       "445656     application attention      1         2\n",
       "445664          series stringent      1         2\n",
       "445666               series step      1         2\n",
       "445668            series startup      1         2\n",
       "445670              series start      1         2\n",
       "445672              series sport      1         2\n",
       "445674            series special      1         2\n",
       "445676             series social      1         2\n",
       "445678         series smartwatch      1         2\n",
       "445685              series shock      1         2\n",
       "445687              series shelf      1         2\n",
       "445689                series tmc      1         2\n",
       "445690              series today      1         2\n",
       "445694           application auo      1         2\n",
       "772908           launch baseline      1         2\n",
       "\n",
       "[294552 rows x 3 columns]"
      ]
     },
     "execution_count": 18,
     "metadata": {},
     "output_type": "execute_result"
    }
   ],
   "source": [
    "df[df['nb_words'] == 2].sort_values(by='count', ascending=False)"
   ]
  },
  {
   "cell_type": "code",
   "execution_count": 19,
   "metadata": {
    "ExecuteTime": {
     "end_time": "2020-04-02T10:37:05.747104Z",
     "start_time": "2020-04-02T10:37:05.641631Z"
    }
   },
   "outputs": [
    {
     "data": {
      "text/html": [
       "<div>\n",
       "<style scoped>\n",
       "    .dataframe tbody tr th:only-of-type {\n",
       "        vertical-align: middle;\n",
       "    }\n",
       "\n",
       "    .dataframe tbody tr th {\n",
       "        vertical-align: top;\n",
       "    }\n",
       "\n",
       "    .dataframe thead th {\n",
       "        text-align: right;\n",
       "    }\n",
       "</style>\n",
       "<table border=\"1\" class=\"dataframe\">\n",
       "  <thead>\n",
       "    <tr style=\"text-align: right;\">\n",
       "      <th></th>\n",
       "      <th>count</th>\n",
       "      <th>nb_words</th>\n",
       "    </tr>\n",
       "  </thead>\n",
       "  <tbody>\n",
       "    <tr>\n",
       "      <th>count</th>\n",
       "      <td>772912.000000</td>\n",
       "      <td>772912.000000</td>\n",
       "    </tr>\n",
       "    <tr>\n",
       "      <th>mean</th>\n",
       "      <td>3.214379</td>\n",
       "      <td>2.550779</td>\n",
       "    </tr>\n",
       "    <tr>\n",
       "      <th>std</th>\n",
       "      <td>41.538422</td>\n",
       "      <td>0.561737</td>\n",
       "    </tr>\n",
       "    <tr>\n",
       "      <th>min</th>\n",
       "      <td>1.000000</td>\n",
       "      <td>1.000000</td>\n",
       "    </tr>\n",
       "    <tr>\n",
       "      <th>25%</th>\n",
       "      <td>1.000000</td>\n",
       "      <td>2.000000</td>\n",
       "    </tr>\n",
       "    <tr>\n",
       "      <th>50%</th>\n",
       "      <td>1.000000</td>\n",
       "      <td>3.000000</td>\n",
       "    </tr>\n",
       "    <tr>\n",
       "      <th>75%</th>\n",
       "      <td>2.000000</td>\n",
       "      <td>3.000000</td>\n",
       "    </tr>\n",
       "    <tr>\n",
       "      <th>max</th>\n",
       "      <td>18594.000000</td>\n",
       "      <td>3.000000</td>\n",
       "    </tr>\n",
       "  </tbody>\n",
       "</table>\n",
       "</div>"
      ],
      "text/plain": [
       "               count       nb_words\n",
       "count  772912.000000  772912.000000\n",
       "mean        3.214379       2.550779\n",
       "std        41.538422       0.561737\n",
       "min         1.000000       1.000000\n",
       "25%         1.000000       2.000000\n",
       "50%         1.000000       3.000000\n",
       "75%         2.000000       3.000000\n",
       "max     18594.000000       3.000000"
      ]
     },
     "execution_count": 19,
     "metadata": {},
     "output_type": "execute_result"
    }
   ],
   "source": [
    "df.describe()"
   ]
  },
  {
   "cell_type": "code",
   "execution_count": 20,
   "metadata": {
    "ExecuteTime": {
     "end_time": "2020-04-02T10:37:05.760540Z",
     "start_time": "2020-04-02T10:37:05.751782Z"
    }
   },
   "outputs": [
    {
     "data": {
      "text/plain": [
       "'outputs/bow_keywords_autonomous.xlsx'"
      ]
     },
     "execution_count": 20,
     "metadata": {},
     "output_type": "execute_result"
    }
   ],
   "source": [
    "path = f'outputs/bow_keywords_{topic}.xlsx'\n",
    "path"
   ]
  },
  {
   "cell_type": "code",
   "execution_count": 21,
   "metadata": {
    "ExecuteTime": {
     "end_time": "2020-04-02T10:37:05.784230Z",
     "start_time": "2020-04-02T10:37:05.765584Z"
    }
   },
   "outputs": [],
   "source": [
    "sheetnames = {\n",
    "    '1' : 'unigram',\n",
    "    '2' : 'bigram', \n",
    "    '3' : 'trigram'\n",
    "}"
   ]
  },
  {
   "cell_type": "code",
   "execution_count": 24,
   "metadata": {
    "ExecuteTime": {
     "end_time": "2020-04-02T10:40:00.181007Z",
     "start_time": "2020-04-02T10:39:57.324997Z"
    }
   },
   "outputs": [],
   "source": [
    "writer = pd.ExcelWriter(path, engine = 'xlsxwriter')\n",
    "for key in sheetnames.keys():\n",
    "    df[(df['nb_words'] == int(key)) & (df['count'] >= 10)].to_excel(writer, sheet_name =  sheetnames[key])\n",
    "writer.save()\n",
    "writer.close()"
   ]
  }
 ],
 "metadata": {
  "kernelspec": {
   "display_name": "Python 3",
   "language": "python",
   "name": "python3"
  },
  "language_info": {
   "codemirror_mode": {
    "name": "ipython",
    "version": 3
   },
   "file_extension": ".py",
   "mimetype": "text/x-python",
   "name": "python",
   "nbconvert_exporter": "python",
   "pygments_lexer": "ipython3",
   "version": "3.7.3"
  },
  "toc": {
   "base_numbering": 1,
   "nav_menu": {},
   "number_sections": true,
   "sideBar": true,
   "skip_h1_title": false,
   "title_cell": "Table of Contents",
   "title_sidebar": "Contents",
   "toc_cell": false,
   "toc_position": {
    "height": "calc(100% - 180px)",
    "left": "10px",
    "top": "150px",
    "width": "165px"
   },
   "toc_section_display": true,
   "toc_window_display": true
  }
 },
 "nbformat": 4,
 "nbformat_minor": 2
}

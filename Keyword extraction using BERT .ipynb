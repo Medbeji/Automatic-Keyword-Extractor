{
 "cells": [
  {
   "cell_type": "markdown",
   "metadata": {},
   "source": [
    "KeyBERT is a minimal and easy-to-use keyword extraction technique \n",
    "that leverages BERT embeddings to create keywords and keyphrases that are most similar to a document."
   ]
  },
  {
   "cell_type": "code",
   "execution_count": 1,
   "metadata": {
    "ExecuteTime": {
     "end_time": "2021-01-25T09:28:12.767514Z",
     "start_time": "2021-01-25T09:28:10.842472Z"
    }
   },
   "outputs": [],
   "source": [
    "from pymongo import MongoClient \n",
    "from keybert import KeyBERT"
   ]
  },
  {
   "cell_type": "code",
   "execution_count": 2,
   "metadata": {
    "ExecuteTime": {
     "end_time": "2021-01-25T09:28:12.787621Z",
     "start_time": "2021-01-25T09:28:12.771808Z"
    }
   },
   "outputs": [],
   "source": [
    "# MongoDB Initialization\n",
    "client = MongoClient('127.0.0.1', 27017)\n",
    "calais_collection = client['FACTIVA']['calais']"
   ]
  },
  {
   "cell_type": "code",
   "execution_count": 3,
   "metadata": {
    "ExecuteTime": {
     "end_time": "2021-01-25T09:28:12.827251Z",
     "start_time": "2021-01-25T09:28:12.795270Z"
    }
   },
   "outputs": [
    {
     "data": {
      "text/plain": [
       "9"
      ]
     },
     "execution_count": 3,
     "metadata": {},
     "output_type": "execute_result"
    }
   ],
   "source": [
    "docs = []\n",
    "for doc in calais_collection.find({}).limit(10):\n",
    "    if len(doc.keys()) > 1:\n",
    "        docs.append(doc)\n",
    "len(docs)"
   ]
  },
  {
   "cell_type": "code",
   "execution_count": 4,
   "metadata": {
    "ExecuteTime": {
     "end_time": "2021-01-25T09:28:12.842006Z",
     "start_time": "2021-01-25T09:28:12.833610Z"
    }
   },
   "outputs": [],
   "source": [
    "selected_indice = 2"
   ]
  },
  {
   "cell_type": "code",
   "execution_count": 5,
   "metadata": {
    "ExecuteTime": {
     "end_time": "2021-01-25T09:28:12.872965Z",
     "start_time": "2021-01-25T09:28:12.851449Z"
    }
   },
   "outputs": [],
   "source": [
    "texts = [ doc['text'] for doc in docs]"
   ]
  },
  {
   "cell_type": "code",
   "execution_count": 6,
   "metadata": {
    "ExecuteTime": {
     "end_time": "2021-01-25T09:28:15.045069Z",
     "start_time": "2021-01-25T09:28:12.878575Z"
    }
   },
   "outputs": [],
   "source": [
    "doc = texts[selected_indice]\n",
    "model = KeyBERT('distilbert-base-nli-mean-tokens')\n"
   ]
  },
  {
   "cell_type": "code",
   "execution_count": 7,
   "metadata": {
    "ExecuteTime": {
     "end_time": "2021-01-25T09:28:15.059693Z",
     "start_time": "2021-01-25T09:28:15.051141Z"
    }
   },
   "outputs": [],
   "source": [
    "doc = \"\"\" \n",
    "Washington (CNN)President Joe Biden on Monday will reinstate the Covid-19 travel restrictions on non-US citizens who have been in Brazil, Ireland, the United Kingdom, and much of Europe, a White House official confirmed to CNN.\n",
    "Biden will also extend the restrictions to travelers who have recently been to South Africa, the official said.\n",
    "The step, which was first reported by Reuters, comes just one week after President Donald Trump signed an executive order in his final days in office lifting the restrictions on travelers from these countries effective January 26.\n",
    "\n",
    "\"I agree with the Secretary that this action is the best way to continue protecting Americans from COVID-19 while enabling travel to resume safely,\" Trump wrote in the order, referring to then-Secretary of Health and Human Services Alex Azar.\n",
    "The Biden transition team, however, vowed that same night the new administration would not lift the restrictions. \"With the pandemic worsening, and more contagious variants emerging around the world, this is not the time to be lifting restrictions on international travel,\" then-incoming White House press secretary Jen Psaki said on Twitter.\n",
    "\"On the advice of our medical team, the Administration does not intend to lift these restrictions on 1/26. In fact, we plan to strengthen public health measures around international travel in order to further mitigate the spread of COVID-19.\"\n",
    "The decision to reinstate the travel restrictions -- and expand restrictions in the case of South Africa -- marks the latest effort by the Biden administration to break from Trump's discursive approach to the pandemic as cases continue to climb nationwide.\n",
    "Biden said on his first full day in office on Thursday his strategy would be \"based on science, not politics\" as he signed a slate of coronavirus-related executive actions, including ramping up vaccination supplies and requiring international travelers to provide proof of a negative Covid-19 test prior to traveling to the US.\n",
    "Many of the countries that would have been impacted by Trump's order have their own recent requirements for American travelers looking to enter their borders.\n",
    "\n",
    "US travelers must have a negative Covid-19 test from within 72 hours prior to travel into the United Kingdom or Ireland, and in conjunction with proof of a completed Declaration of Traveler's Health to enter Brazil. American travelers generally cannot enter countries such as Spain, Germany, France, Italy and Sweden without meeting specific requirements.\n",
    "This story has been updated to include additional information.\n",
    "\"\"\""
   ]
  },
  {
   "cell_type": "code",
   "execution_count": 8,
   "metadata": {
    "ExecuteTime": {
     "end_time": "2021-01-25T09:28:20.635861Z",
     "start_time": "2021-01-25T09:28:15.064425Z"
    }
   },
   "outputs": [],
   "source": [
    "keywords = model.extract_keywords(doc,  keyphrase_ngram_range=(1, 2), top_n=10)"
   ]
  },
  {
   "cell_type": "code",
   "execution_count": 9,
   "metadata": {
    "ExecuteTime": {
     "end_time": "2021-01-25T09:28:20.649384Z",
     "start_time": "2021-01-25T09:28:20.638833Z"
    }
   },
   "outputs": [
    {
     "data": {
      "text/plain": [
       "['monday reinstate',\n",
       " 'cnn president',\n",
       " 'donald trump',\n",
       " 'office thursday',\n",
       " 'cnn biden',\n",
       " 'trump signed',\n",
       " 'president donald',\n",
       " 'biden monday',\n",
       " 'week president',\n",
       " 'thursday strategy']"
      ]
     },
     "execution_count": 9,
     "metadata": {},
     "output_type": "execute_result"
    }
   ],
   "source": [
    "keywords"
   ]
  },
  {
   "cell_type": "code",
   "execution_count": 10,
   "metadata": {
    "ExecuteTime": {
     "end_time": "2021-01-25T09:28:26.182795Z",
     "start_time": "2021-01-25T09:28:20.656578Z"
    }
   },
   "outputs": [
    {
     "data": {
      "text/plain": [
       "['monday reinstate',\n",
       " 'donald trump',\n",
       " 'cnn president',\n",
       " 'office thursday',\n",
       " 'ramping vaccination',\n",
       " 'week president',\n",
       " 'break trump',\n",
       " 'twitter advice',\n",
       " 'pandemic worsening',\n",
       " 'science politics',\n",
       " 'slate coronavirus',\n",
       " 'test 72',\n",
       " 'politics signed',\n",
       " 'white house',\n",
       " 'covid 19',\n",
       " 'new administration',\n",
       " 'president joe',\n",
       " 'reinstate covid',\n",
       " 'effective january',\n",
       " 'italy sweden']"
      ]
     },
     "execution_count": 10,
     "metadata": {},
     "output_type": "execute_result"
    }
   ],
   "source": [
    "model.extract_keywords(doc, keyphrase_ngram_range=(1, 2), stop_words='english', use_mmr=True, diversity=0.4, top_n=20)"
   ]
  },
  {
   "cell_type": "code",
   "execution_count": 11,
   "metadata": {
    "ExecuteTime": {
     "end_time": "2021-01-25T09:28:26.200505Z",
     "start_time": "2021-01-25T09:28:26.186948Z"
    }
   },
   "outputs": [
    {
     "data": {
      "text/plain": [
       "['Oil companies',\n",
       " 'Companies',\n",
       " 'Industries',\n",
       " 'Caltex',\n",
       " 'Texaco',\n",
       " 'BP',\n",
       " 'Oil refineries']"
      ]
     },
     "execution_count": 11,
     "metadata": {},
     "output_type": "execute_result"
    }
   ],
   "source": [
    "tags = [doc['socialTag'] for doc in docs]\n",
    "tags = [tag['name'] for tag in tags[selected_indice]]\n",
    "tags"
   ]
  }
 ],
 "metadata": {
  "kernelspec": {
   "display_name": "Python 3",
   "language": "python",
   "name": "python3"
  },
  "language_info": {
   "codemirror_mode": {
    "name": "ipython",
    "version": 3
   },
   "file_extension": ".py",
   "mimetype": "text/x-python",
   "name": "python",
   "nbconvert_exporter": "python",
   "pygments_lexer": "ipython3",
   "version": "3.7.3"
  },
  "toc": {
   "base_numbering": 1,
   "nav_menu": {},
   "number_sections": true,
   "sideBar": true,
   "skip_h1_title": false,
   "title_cell": "Table of Contents",
   "title_sidebar": "Contents",
   "toc_cell": false,
   "toc_position": {},
   "toc_section_display": true,
   "toc_window_display": false
  }
 },
 "nbformat": 4,
 "nbformat_minor": 2
}

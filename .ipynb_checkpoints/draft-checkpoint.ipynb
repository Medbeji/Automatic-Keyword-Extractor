{
 "cells": [
  {
   "cell_type": "code",
   "execution_count": 6,
   "metadata": {
    "ExecuteTime": {
     "end_time": "2020-03-19T19:27:14.041561Z",
     "start_time": "2020-03-19T19:27:14.036138Z"
    }
   },
   "outputs": [],
   "source": [
    "from tqdm import tqdm_notebook"
   ]
  },
  {
   "cell_type": "code",
   "execution_count": 2,
   "metadata": {
    "ExecuteTime": {
     "end_time": "2020-03-19T19:26:39.600407Z",
     "start_time": "2020-03-19T19:26:39.594294Z"
    }
   },
   "outputs": [],
   "source": [
    "full_story_list = [\"the house had a tiny little mouse\",\n",
    "                   \"the cat saw the mouse\",\n",
    "                   \"the mouse ran away from the house\",\n",
    "                   \"\\n\",\n",
    "                   \"the cat finally ate the mouse\",\n",
    "                   \"the end of the mouse story\"\n",
    "                   ]"
   ]
  },
  {
   "cell_type": "code",
   "execution_count": 4,
   "metadata": {
    "ExecuteTime": {
     "end_time": "2020-03-19T19:26:48.916765Z",
     "start_time": "2020-03-19T19:26:48.897413Z"
    }
   },
   "outputs": [
    {
     "data": {
      "text/plain": [
       "['the house had a tiny little mouse the cat saw the mouse']"
      ]
     },
     "execution_count": 4,
     "metadata": {},
     "output_type": "execute_result"
    }
   ],
   "source": [
    "stories = []\n",
    "index = 0\n",
    "for i, story in tqdm_notebook(enumerate(full_story_list):\n",
    "    if story == '\\n':\n",
    "        stories.append(' '.join(full_story_list[index:i-1]))\n",
    "        index = i + 1\n",
    "stories"
   ]
  }
 ],
 "metadata": {
  "kernelspec": {
   "display_name": "Python 3",
   "language": "python",
   "name": "python3"
  },
  "language_info": {
   "codemirror_mode": {
    "name": "ipython",
    "version": 3
   },
   "file_extension": ".py",
   "mimetype": "text/x-python",
   "name": "python",
   "nbconvert_exporter": "python",
   "pygments_lexer": "ipython3",
   "version": "3.7.3"
  },
  "toc": {
   "base_numbering": 1,
   "nav_menu": {},
   "number_sections": true,
   "sideBar": true,
   "skip_h1_title": false,
   "title_cell": "Table of Contents",
   "title_sidebar": "Contents",
   "toc_cell": false,
   "toc_position": {},
   "toc_section_display": true,
   "toc_window_display": false
  }
 },
 "nbformat": 4,
 "nbformat_minor": 2
}

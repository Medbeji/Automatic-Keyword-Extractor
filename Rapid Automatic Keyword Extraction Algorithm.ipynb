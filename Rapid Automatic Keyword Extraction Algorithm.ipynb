{
 "cells": [
  {
   "cell_type": "code",
   "execution_count": 1,
   "metadata": {
    "ExecuteTime": {
     "end_time": "2021-01-22T14:56:22.829263Z",
     "start_time": "2021-01-22T14:56:21.854583Z"
    }
   },
   "outputs": [],
   "source": [
    "from rake_nltk import Metric, Rake"
   ]
  },
  {
   "cell_type": "code",
   "execution_count": 2,
   "metadata": {
    "ExecuteTime": {
     "end_time": "2021-01-22T14:56:22.846386Z",
     "start_time": "2021-01-22T14:56:22.833846Z"
    }
   },
   "outputs": [],
   "source": [
    "text = \"\"\" \n",
    "The four remaining refineries in Australia have been under mounting pressure since government restrictions to halt the spreading pandemic caused borders to shut, airlines to slash flights and people to stay at home - reducing some forecasts for jet fuel demand by as much as 90 per cent.\\n\\nAs refiners worldwide reduce runs to produce as little fuel as possible without shutting down, the operator of Melbourne\\'s Altona refinery, ExxonMobil, told The Age and The Sydney Morning Herald it was implementing measures to manage the \"supply and demand balance\" including cutting overall production volumes.\\n\\n\"We are actively managing an oversupply of product due to a significant decrease in global demand, particularly jet fuel,\" an Exxon spokesman said. \"Our team is working hard to ensure the refinery continues to meet fuel supply needs and safely operates for as long as possible.\"\\n\\nBritish oil major BP also said it was adjusting output at its Kwinana refinery in Western Australia in response to demand changes. Due to restrictions on people and movement aimed at minimising a virus outbreak, the company has informed its workers and contractors it would have to put on hold a major maintenance upgrade of the plant that had been scheduled to start in 2021. A spokesman said the decision had \"not been made lightly\".\\n\\nThe nation\\'s ASX-listed refiners, Caltex and Viva Energy, both notified the market last week of ways they were responding to the worsening pressure of refining margins collapsing along with fuel demand.\\n\\nCaltex - whose margins have been cut in half from $US8.67 a barrel in March 2019 to $US4.62 last month - will temporarily shutter its Brisbane refinery from next month for an extended maintenance closure and only reopen it once refining margin conditions have improved.\\n\\nViva said it would review whether to proceed with plans for a $100 million maintenance program needed to prolong the life of its Geelong refinery in Victoria.\\n\\nAustralia has become increasingly reliant on imported fuel over the past decade, with three of the nation\\'s seven domestic refineries closing down and domestic production of liquid fuels declining sharply.\\n\\nThe pressure threatening the country\\'s four remaining refineries and the potential for disruption to international ports and shipping activity from coronavirus restrictions have prompted calls from federal Labor and the motorists\\' peak body for the government to consider measures to secure local refining capacity.\\n\\nFederal Energy Minister Angus Taylor has been working closely with refinery operators in order to better \"understand their current challenges\" and protect Australia\\'s fuel security in the pandemic. But he has assured the public there was no immediate threat to supply.\\n\\n\"Affordable energy and an uninterrupted supply is crucial to ensure essential services such as health and food supplies,\" Mr Taylor said. \"A stable and secure market will also help nations as they emerge from the economic impacts of the COVID-19 pandemic\n",
    "\"\"\""
   ]
  },
  {
   "cell_type": "code",
   "execution_count": 3,
   "metadata": {
    "ExecuteTime": {
     "end_time": "2021-01-22T14:56:22.916210Z",
     "start_time": "2021-01-22T14:56:22.851631Z"
    }
   },
   "outputs": [
    {
     "data": {
      "text/plain": [
       "[(14.0, 'jet fuel demand'),\n",
       " (12.0, 'particularly jet fuel ,\"'),\n",
       " (12.0, 'meet fuel supply needs'),\n",
       " (12.0, 'fuel demand'),\n",
       " (12.0, 'food supplies ,\" mr taylor said'),\n",
       " (12.0, 'british oil major bp also said'),\n",
       " (10.0, 'mounting pressure since government restrictions'),\n",
       " (9.0, 'federal energy minister angus taylor'),\n",
       " (8.0, 'little fuel'),\n",
       " (8.0, 'imported fuel'),\n",
       " (8.0, 'fuel security'),\n",
       " (8.0, 'exxon spokesman said'),\n",
       " (7.0, 'viva said'),\n",
       " (7.0, 'spokesman said'),\n",
       " (7.0, 'secure local refining capacity'),\n",
       " (7.0, 'refining margins collapsing along'),\n",
       " (7.0, 'refinery operators'),\n",
       " (7.0, 'refinery continues'),\n",
       " (7.0, 'kwinana refinery'),\n",
       " (7.0, 'geelong refinery'),\n",
       " (7.0, 'brisbane refinery'),\n",
       " (7.0, 'altona refinery'),\n",
       " (7.0, '100 million maintenance program needed'),\n",
       " (6.0, 'spreading pandemic caused borders'),\n",
       " (6.0, 'seven domestic refineries closing'),\n",
       " (6.0, 'major maintenance upgrade'),\n",
       " (6.0, 'including cutting overall production volumes'),\n",
       " (6.0, 'global demand'),\n",
       " (6.0, 'demand changes'),\n",
       " (6.0, 'demand balance'),\n",
       " (5.0, 'viva energy'),\n",
       " (5.0, 'refining margin conditions'),\n",
       " (5.0, 'refiners worldwide reduce runs'),\n",
       " (5.0, 'market last week'),\n",
       " (5.0, 'extended maintenance closure'),\n",
       " (5.0, '62 last month'),\n",
       " (4.0, 'would review whether'),\n",
       " (4.0, 'worsening pressure'),\n",
       " (4.0, 'western australia'),\n",
       " (4.0, 'uninterrupted supply'),\n",
       " (4.0, 'secure market'),\n",
       " (4.0, 'protect australia'),\n",
       " (4.0, 'pressure threatening'),\n",
       " (4.0, 'possible without shutting'),\n",
       " (4.0, 'liquid fuels declining sharply'),\n",
       " (4.0, 'four remaining refineries'),\n",
       " (4.0, 'ensure essential services'),\n",
       " (4.0, 'domestic production'),\n",
       " (4.0, 'coronavirus restrictions'),\n",
       " (4.0, 'also help nations'),\n",
       " (4.0, 'affordable energy'),\n",
       " (4.0, '19 pandemic'),\n",
       " (3.0, 'working hard'),\n",
       " (3.0, 'working closely'),\n",
       " (3.0, 'whose margins'),\n",
       " (3.0, 'sydney morning herald'),\n",
       " (3.0, 'supply'),\n",
       " (3.0, 'restrictions'),\n",
       " (3.0, 'product due'),\n",
       " (3.0, 'possible .\"'),\n",
       " (3.0, 'pandemic'),\n",
       " (3.0, 'next month'),\n",
       " (3.0, 'made lightly \".'),\n",
       " (3.0, 'listed refiners'),\n",
       " (3.0, 'implementing measures'),\n",
       " (3.0, 'federal labor'),\n",
       " (3.0, 'consider measures'),\n",
       " (3.0, 'become increasingly reliant'),\n",
       " (3.0, 'australia'),\n",
       " (3.0, '90 per cent'),\n",
       " (2.0, 'would'),\n",
       " (2.0, 'virus outbreak'),\n",
       " (2.0, 'temporarily shutter'),\n",
       " (2.0, 'slash flights'),\n",
       " (2.0, 'significant decrease'),\n",
       " (2.0, 'shipping activity'),\n",
       " (2.0, 'safely operates'),\n",
       " (2.0, 'prompted calls'),\n",
       " (2.0, 'peak body'),\n",
       " (2.0, 'past decade'),\n",
       " (2.0, 'movement aimed'),\n",
       " (2.0, 'march 2019'),\n",
       " (2.0, 'international ports'),\n",
       " (2.0, 'immediate threat'),\n",
       " (2.0, 'government'),\n",
       " (2.0, 'ensure'),\n",
       " (2.0, 'economic impacts'),\n",
       " (2.0, 'due'),\n",
       " (2.0, 'current challenges'),\n",
       " (2.0, 'adjusting output'),\n",
       " (2.0, 'actively managing'),\n",
       " (1.0, 'workers'),\n",
       " (1.0, 'ways'),\n",
       " (1.0, 'victoria'),\n",
       " (1.0, 'us8'),\n",
       " (1.0, 'us4'),\n",
       " (1.0, 'understand'),\n",
       " (1.0, 'told'),\n",
       " (1.0, 'three'),\n",
       " (1.0, 'team'),\n",
       " (1.0, 'stay'),\n",
       " (1.0, 'start'),\n",
       " (1.0, 'stable'),\n",
       " (1.0, 'shut'),\n",
       " (1.0, 'scheduled'),\n",
       " (1.0, 'response'),\n",
       " (1.0, 'responding'),\n",
       " (1.0, 'reopen'),\n",
       " (1.0, 'reducing'),\n",
       " (1.0, 'put'),\n",
       " (1.0, 'public'),\n",
       " (1.0, 'prolong'),\n",
       " (1.0, 'produce'),\n",
       " (1.0, 'proceed'),\n",
       " (1.0, 'potential'),\n",
       " (1.0, 'plant'),\n",
       " (1.0, 'plans'),\n",
       " (1.0, 'people'),\n",
       " (1.0, 'oversupply'),\n",
       " (1.0, 'order'),\n",
       " (1.0, 'operator'),\n",
       " (1.0, 'notified'),\n",
       " (1.0, 'nation'),\n",
       " (1.0, 'much'),\n",
       " (1.0, 'motorists'),\n",
       " (1.0, 'minimising'),\n",
       " (1.0, 'melbourne'),\n",
       " (1.0, 'manage'),\n",
       " (1.0, 'long'),\n",
       " (1.0, 'life'),\n",
       " (1.0, 'informed'),\n",
       " (1.0, 'improved'),\n",
       " (1.0, 'home'),\n",
       " (1.0, 'hold'),\n",
       " (1.0, 'health'),\n",
       " (1.0, 'halt'),\n",
       " (1.0, 'half'),\n",
       " (1.0, 'forecasts'),\n",
       " (1.0, 'exxonmobil'),\n",
       " (1.0, 'emerge'),\n",
       " (1.0, 'disruption'),\n",
       " (1.0, 'decision'),\n",
       " (1.0, 'cut'),\n",
       " (1.0, 'crucial'),\n",
       " (1.0, 'covid'),\n",
       " (1.0, 'country'),\n",
       " (1.0, 'contractors'),\n",
       " (1.0, 'company'),\n",
       " (1.0, 'caltex'),\n",
       " (1.0, 'better'),\n",
       " (1.0, 'barrel'),\n",
       " (1.0, 'asx'),\n",
       " (1.0, 'assured'),\n",
       " (1.0, 'airlines'),\n",
       " (1.0, 'age'),\n",
       " (1.0, '67'),\n",
       " (1.0, '2021')]"
      ]
     },
     "execution_count": 3,
     "metadata": {},
     "output_type": "execute_result"
    }
   ],
   "source": [
    "r = Rake(ranking_metric=Metric.WORD_FREQUENCY)\n",
    "r.extract_keywords_from_text(text)\n",
    "r.get_ranked_phrases_with_scores()"
   ]
  },
  {
   "cell_type": "code",
   "execution_count": null,
   "metadata": {
    "ExecuteTime": {
     "end_time": "2021-01-21T23:26:43.888750Z",
     "start_time": "2021-01-21T23:26:43.867333Z"
    }
   },
   "outputs": [],
   "source": []
  }
 ],
 "metadata": {
  "kernelspec": {
   "display_name": "Python 3",
   "language": "python",
   "name": "python3"
  },
  "language_info": {
   "codemirror_mode": {
    "name": "ipython",
    "version": 3
   },
   "file_extension": ".py",
   "mimetype": "text/x-python",
   "name": "python",
   "nbconvert_exporter": "python",
   "pygments_lexer": "ipython3",
   "version": "3.7.3"
  },
  "toc": {
   "base_numbering": 1,
   "nav_menu": {},
   "number_sections": true,
   "sideBar": true,
   "skip_h1_title": false,
   "title_cell": "Table of Contents",
   "title_sidebar": "Contents",
   "toc_cell": false,
   "toc_position": {},
   "toc_section_display": true,
   "toc_window_display": false
  }
 },
 "nbformat": 4,
 "nbformat_minor": 2
}
